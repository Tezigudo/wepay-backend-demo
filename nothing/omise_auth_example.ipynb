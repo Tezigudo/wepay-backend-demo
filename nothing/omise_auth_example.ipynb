{
 "cells": [
  {
   "cell_type": "code",
   "execution_count": 1,
   "metadata": {},
   "outputs": [],
   "source": [
    "import omise\n",
    "from decouple import config\n",
    "\n",
    "omise.api_public = config('OMISE_PUBLIC_KEY')\n",
    "omise.api_secret = config('OMISE_SECRET_KEY')"
   ]
  },
  {
   "cell_type": "code",
   "execution_count": null,
   "metadata": {},
   "outputs": [],
   "source": []
  },
  {
   "cell_type": "code",
   "execution_count": 2,
   "metadata": {},
   "outputs": [
    {
     "data": {
      "text/plain": [
       "[<Chain id='acch_test_5tl5qdsa0cbli76hwoj' at 0x1066f30d0>,\n",
       " <Chain id='acch_test_5tmytw2wqewbq05abwu' at 0x106773610>,\n",
       " <Chain id='acch_test_5tmyu7kiruk2rmn5xvd' at 0x106773490>,\n",
       " <Chain id='acch_test_5tok7zbwpb7rnt05jfq' at 0x1067736d0>,\n",
       " <Chain id='acch_test_5tuf9cr892bl866tpha' at 0x1067738b0>]"
      ]
     },
     "execution_count": 2,
     "metadata": {},
     "output_type": "execute_result"
    }
   ],
   "source": [
    "chains = omise.Chain.retrieve()\n",
    "list(chains)"
   ]
  },
  {
   "cell_type": "code",
   "execution_count": 3,
   "metadata": {},
   "outputs": [],
   "source": [
    "chain = chains[0]"
   ]
  },
  {
   "cell_type": "code",
   "execution_count": 6,
   "metadata": {},
   "outputs": [
    {
     "data": {
      "text/plain": [
       "'preawpan.t@ku.th'"
      ]
     },
     "execution_count": 6,
     "metadata": {},
     "output_type": "execute_result"
    }
   ],
   "source": [
    "chain.email"
   ]
  },
  {
   "cell_type": "code",
   "execution_count": 17,
   "metadata": {},
   "outputs": [
    {
     "name": "stdout",
     "output_type": "stream",
     "text": [
      "preawpan.t@ku.th\n",
      "will32672@hotmail.com\n",
      "dolthanadolu@gmail.com\n",
      "thanida.chai@ku.th\n"
     ]
    }
   ],
   "source": [
    "for chain in chains:\n",
    "    print(chain.email)"
   ]
  },
  {
   "cell_type": "code",
   "execution_count": 7,
   "metadata": {},
   "outputs": [
    {
     "data": {
      "text/plain": [
       "'preawpan.t@ku.th'"
      ]
     },
     "execution_count": 7,
     "metadata": {},
     "output_type": "execute_result"
    }
   ],
   "source": [
    "chain.email"
   ]
  },
  {
   "cell_type": "code",
   "execution_count": 7,
   "metadata": {},
   "outputs": [],
   "source": [
    "omise.api_secret = config('OMISE_SECRET_KEY')"
   ]
  },
  {
   "cell_type": "code",
   "execution_count": 4,
   "metadata": {},
   "outputs": [],
   "source": [
    "amount = 23157\n",
    "\n",
    "source = omise.Source.create(\n",
    "    amount=amount, currency=\"THB\", type=\"promptpay\", email='godjangg@gmail.com', name='God'\n",
    ")"
   ]
  },
  {
   "cell_type": "code",
   "execution_count": 5,
   "metadata": {},
   "outputs": [],
   "source": [
    "omise.api_secret = chain.key"
   ]
  },
  {
   "cell_type": "code",
   "execution_count": 6,
   "metadata": {},
   "outputs": [
    {
     "data": {
      "text/plain": [
       "'src_test_5txaapwtyq3qa1vjlnt'"
      ]
     },
     "execution_count": 6,
     "metadata": {},
     "output_type": "execute_result"
    }
   ],
   "source": [
    "source.id"
   ]
  },
  {
   "cell_type": "code",
   "execution_count": 7,
   "metadata": {},
   "outputs": [
    {
     "data": {
      "text/plain": [
       "'pending'"
      ]
     },
     "execution_count": 7,
     "metadata": {},
     "output_type": "execute_result"
    }
   ],
   "source": [
    "charge = omise.Charge.create(\n",
    "    amount=amount,\n",
    "    currency=\"THB\",\n",
    "    return_uri=\"http://127.0.0.1:8000\",\n",
    "    source=source.id,\n",
    "    reversible=True,\n",
    ")\n",
    "charge.status"
   ]
  },
  {
   "cell_type": "code",
   "execution_count": null,
   "metadata": {},
   "outputs": [],
   "source": [
    "omise.api_secret = config('OMISE_SECRET_KEY')"
   ]
  },
  {
   "cell_type": "code",
   "execution_count": 23,
   "metadata": {},
   "outputs": [
    {
     "name": "stdout",
     "output_type": "stream",
     "text": [
      "None\n"
     ]
    }
   ],
   "source": [
    "print(charge.source.references)"
   ]
  },
  {
   "cell_type": "code",
   "execution_count": 12,
   "metadata": {},
   "outputs": [
    {
     "data": {
      "text/plain": [
       "'chrg_test_5tu8af2twtckz68vufc'"
      ]
     },
     "execution_count": 12,
     "metadata": {},
     "output_type": "execute_result"
    }
   ],
   "source": [
    "charge.id"
   ]
  },
  {
   "cell_type": "code",
   "execution_count": null,
   "metadata": {},
   "outputs": [],
   "source": [
    "charge = omise.Charge.retrieve(charge.id)"
   ]
  },
  {
   "cell_type": "code",
   "execution_count": null,
   "metadata": {},
   "outputs": [],
   "source": [
    "charge.id"
   ]
  },
  {
   "cell_type": "code",
   "execution_count": null,
   "metadata": {},
   "outputs": [],
   "source": [
    "charge.capturable"
   ]
  },
  {
   "cell_type": "code",
   "execution_count": null,
   "metadata": {},
   "outputs": [],
   "source": [
    "charge.capture()"
   ]
  },
  {
   "cell_type": "code",
   "execution_count": 15,
   "metadata": {},
   "outputs": [
    {
     "ename": "BaseError",
     "evalue": "This charge is not reversible",
     "output_type": "error",
     "traceback": [
      "\u001b[0;31m---------------------------------------------------------------------------\u001b[0m",
      "\u001b[0;31mBaseError\u001b[0m                                 Traceback (most recent call last)",
      "\u001b[1;32m/Users/god/Desktop/MyFolder/Programming/Y2S1/ISP/WePay-demo/nothing/omise_auth_example.ipynb Cell 24\u001b[0m in \u001b[0;36m<cell line: 1>\u001b[0;34m()\u001b[0m\n\u001b[0;32m----> <a href='vscode-notebook-cell:/Users/god/Desktop/MyFolder/Programming/Y2S1/ISP/WePay-demo/nothing/omise_auth_example.ipynb#X32sZmlsZQ%3D%3D?line=0'>1</a>\u001b[0m charge\u001b[39m.\u001b[39;49mreverse()\n",
      "File \u001b[0;32m/Library/Frameworks/Python.framework/Versions/3.10/lib/python3.10/site-packages/omise/__init__.py:796\u001b[0m, in \u001b[0;36mCharge.reverse\u001b[0;34m(self)\u001b[0m\n\u001b[1;32m    791\u001b[0m \u001b[39m\"\"\"Reverse an uncaptured charge.\u001b[39;00m\n\u001b[1;32m    792\u001b[0m \n\u001b[1;32m    793\u001b[0m \u001b[39m:rtype: Charge\u001b[39;00m\n\u001b[1;32m    794\u001b[0m \u001b[39m\"\"\"\u001b[39;00m\n\u001b[1;32m    795\u001b[0m path \u001b[39m=\u001b[39m \u001b[39mself\u001b[39m\u001b[39m.\u001b[39m_instance_path(\u001b[39mself\u001b[39m\u001b[39m.\u001b[39m_attributes[\u001b[39m'\u001b[39m\u001b[39mid\u001b[39m\u001b[39m'\u001b[39m]) \u001b[39m+\u001b[39m (\u001b[39m'\u001b[39m\u001b[39mreverse\u001b[39m\u001b[39m'\u001b[39m,)\n\u001b[0;32m--> 796\u001b[0m \u001b[39mreturn\u001b[39;00m \u001b[39mself\u001b[39m\u001b[39m.\u001b[39m_reload_data(\u001b[39mself\u001b[39;49m\u001b[39m.\u001b[39;49m_request(\u001b[39m'\u001b[39;49m\u001b[39mpost\u001b[39;49m\u001b[39m'\u001b[39;49m, path))\n",
      "File \u001b[0;32m/Library/Frameworks/Python.framework/Versions/3.10/lib/python3.10/site-packages/omise/__init__.py:209\u001b[0m, in \u001b[0;36m_MainResource._request\u001b[0;34m(cls, *args, **kwargs)\u001b[0m\n\u001b[1;32m    207\u001b[0m \u001b[39m@classmethod\u001b[39m\n\u001b[1;32m    208\u001b[0m \u001b[39mdef\u001b[39;00m \u001b[39m_request\u001b[39m(\u001b[39mcls\u001b[39m, \u001b[39m*\u001b[39margs, \u001b[39m*\u001b[39m\u001b[39m*\u001b[39mkwargs):\n\u001b[0;32m--> 209\u001b[0m     \u001b[39mreturn\u001b[39;00m Request(api_secret, api_main, api_version)\u001b[39m.\u001b[39;49msend(\u001b[39m*\u001b[39;49margs, \u001b[39m*\u001b[39;49m\u001b[39m*\u001b[39;49mkwargs)\n",
      "File \u001b[0;32m/Library/Frameworks/Python.framework/Versions/3.10/lib/python3.10/site-packages/omise/request.py:102\u001b[0m, in \u001b[0;36mRequest.send\u001b[0;34m(self, method, path, payload, headers)\u001b[0m\n\u001b[1;32m     99\u001b[0m logger\u001b[39m.\u001b[39minfo(\u001b[39m'\u001b[39m\u001b[39mReceived HTTP response: \u001b[39m\u001b[39m%s\u001b[39;00m\u001b[39m'\u001b[39m, response)\n\u001b[1;32m    101\u001b[0m \u001b[39mif\u001b[39;00m response\u001b[39m.\u001b[39mget(\u001b[39m'\u001b[39m\u001b[39mobject\u001b[39m\u001b[39m'\u001b[39m) \u001b[39m==\u001b[39m \u001b[39m'\u001b[39m\u001b[39merror\u001b[39m\u001b[39m'\u001b[39m:\n\u001b[0;32m--> 102\u001b[0m     errors\u001b[39m.\u001b[39;49m_raise_from_data(response)\n\u001b[1;32m    103\u001b[0m \u001b[39mreturn\u001b[39;00m response\n",
      "File \u001b[0;32m/Library/Frameworks/Python.framework/Versions/3.10/lib/python3.10/site-packages/omise/errors.py:49\u001b[0m, in \u001b[0;36m_raise_from_data\u001b[0;34m(data)\u001b[0m\n\u001b[1;32m     47\u001b[0m     \u001b[39mif\u001b[39;00m \u001b[39mnot\u001b[39;00m error:\n\u001b[1;32m     48\u001b[0m         error \u001b[39m=\u001b[39m BaseError\n\u001b[0;32m---> 49\u001b[0m     \u001b[39mraise\u001b[39;00m error(data[\u001b[39m'\u001b[39m\u001b[39mmessage\u001b[39m\u001b[39m'\u001b[39m])\n\u001b[1;32m     50\u001b[0m \u001b[39mraise\u001b[39;00m BaseError(\u001b[39m'\u001b[39m\u001b[39munknown error\u001b[39m\u001b[39m'\u001b[39m)\n",
      "\u001b[0;31mBaseError\u001b[0m: This charge is not reversible"
     ]
    }
   ],
   "source": [
    "charge.reverse()"
   ]
  },
  {
   "cell_type": "code",
   "execution_count": null,
   "metadata": {},
   "outputs": [],
   "source": [
    "omise.Charge.retrieve(cid)"
   ]
  },
  {
   "cell_type": "code",
   "execution_count": 11,
   "metadata": {},
   "outputs": [
    {
     "ename": "BaseError",
     "evalue": "charge is not capturable",
     "output_type": "error",
     "traceback": [
      "\u001b[0;31m---------------------------------------------------------------------------\u001b[0m",
      "\u001b[0;31mBaseError\u001b[0m                                 Traceback (most recent call last)",
      "\u001b[1;32m/Users/god/Desktop/MyFolder/Programming/Y2S1/ISP/WePay-demo/nothing/omise_auth_example.ipynb Cell 26\u001b[0m in \u001b[0;36m<cell line: 1>\u001b[0;34m()\u001b[0m\n\u001b[0;32m----> <a href='vscode-notebook-cell:/Users/god/Desktop/MyFolder/Programming/Y2S1/ISP/WePay-demo/nothing/omise_auth_example.ipynb#X34sZmlsZQ%3D%3D?line=0'>1</a>\u001b[0m charge\u001b[39m.\u001b[39;49mcapture()\n",
      "File \u001b[0;32m/Library/Frameworks/Python.framework/Versions/3.10/lib/python3.10/site-packages/omise/__init__.py:788\u001b[0m, in \u001b[0;36mCharge.capture\u001b[0;34m(self)\u001b[0m\n\u001b[1;32m    783\u001b[0m \u001b[39m\"\"\"Capture an authorized charge.\u001b[39;00m\n\u001b[1;32m    784\u001b[0m \n\u001b[1;32m    785\u001b[0m \u001b[39m:rtype: Charge\u001b[39;00m\n\u001b[1;32m    786\u001b[0m \u001b[39m\"\"\"\u001b[39;00m\n\u001b[1;32m    787\u001b[0m path \u001b[39m=\u001b[39m \u001b[39mself\u001b[39m\u001b[39m.\u001b[39m_instance_path(\u001b[39mself\u001b[39m\u001b[39m.\u001b[39m_attributes[\u001b[39m'\u001b[39m\u001b[39mid\u001b[39m\u001b[39m'\u001b[39m]) \u001b[39m+\u001b[39m (\u001b[39m'\u001b[39m\u001b[39mcapture\u001b[39m\u001b[39m'\u001b[39m,)\n\u001b[0;32m--> 788\u001b[0m \u001b[39mreturn\u001b[39;00m \u001b[39mself\u001b[39m\u001b[39m.\u001b[39m_reload_data(\u001b[39mself\u001b[39;49m\u001b[39m.\u001b[39;49m_request(\u001b[39m'\u001b[39;49m\u001b[39mpost\u001b[39;49m\u001b[39m'\u001b[39;49m, path))\n",
      "File \u001b[0;32m/Library/Frameworks/Python.framework/Versions/3.10/lib/python3.10/site-packages/omise/__init__.py:209\u001b[0m, in \u001b[0;36m_MainResource._request\u001b[0;34m(cls, *args, **kwargs)\u001b[0m\n\u001b[1;32m    207\u001b[0m \u001b[39m@classmethod\u001b[39m\n\u001b[1;32m    208\u001b[0m \u001b[39mdef\u001b[39;00m \u001b[39m_request\u001b[39m(\u001b[39mcls\u001b[39m, \u001b[39m*\u001b[39margs, \u001b[39m*\u001b[39m\u001b[39m*\u001b[39mkwargs):\n\u001b[0;32m--> 209\u001b[0m     \u001b[39mreturn\u001b[39;00m Request(api_secret, api_main, api_version)\u001b[39m.\u001b[39;49msend(\u001b[39m*\u001b[39;49margs, \u001b[39m*\u001b[39;49m\u001b[39m*\u001b[39;49mkwargs)\n",
      "File \u001b[0;32m/Library/Frameworks/Python.framework/Versions/3.10/lib/python3.10/site-packages/omise/request.py:102\u001b[0m, in \u001b[0;36mRequest.send\u001b[0;34m(self, method, path, payload, headers)\u001b[0m\n\u001b[1;32m     99\u001b[0m logger\u001b[39m.\u001b[39minfo(\u001b[39m'\u001b[39m\u001b[39mReceived HTTP response: \u001b[39m\u001b[39m%s\u001b[39;00m\u001b[39m'\u001b[39m, response)\n\u001b[1;32m    101\u001b[0m \u001b[39mif\u001b[39;00m response\u001b[39m.\u001b[39mget(\u001b[39m'\u001b[39m\u001b[39mobject\u001b[39m\u001b[39m'\u001b[39m) \u001b[39m==\u001b[39m \u001b[39m'\u001b[39m\u001b[39merror\u001b[39m\u001b[39m'\u001b[39m:\n\u001b[0;32m--> 102\u001b[0m     errors\u001b[39m.\u001b[39;49m_raise_from_data(response)\n\u001b[1;32m    103\u001b[0m \u001b[39mreturn\u001b[39;00m response\n",
      "File \u001b[0;32m/Library/Frameworks/Python.framework/Versions/3.10/lib/python3.10/site-packages/omise/errors.py:49\u001b[0m, in \u001b[0;36m_raise_from_data\u001b[0;34m(data)\u001b[0m\n\u001b[1;32m     47\u001b[0m     \u001b[39mif\u001b[39;00m \u001b[39mnot\u001b[39;00m error:\n\u001b[1;32m     48\u001b[0m         error \u001b[39m=\u001b[39m BaseError\n\u001b[0;32m---> 49\u001b[0m     \u001b[39mraise\u001b[39;00m error(data[\u001b[39m'\u001b[39m\u001b[39mmessage\u001b[39m\u001b[39m'\u001b[39m])\n\u001b[1;32m     50\u001b[0m \u001b[39mraise\u001b[39;00m BaseError(\u001b[39m'\u001b[39m\u001b[39munknown error\u001b[39m\u001b[39m'\u001b[39m)\n",
      "\u001b[0;31mBaseError\u001b[0m: charge is not capturable"
     ]
    }
   ],
   "source": [
    "charge.capture()"
   ]
  },
  {
   "cell_type": "code",
   "execution_count": null,
   "metadata": {},
   "outputs": [],
   "source": [
    "charge.status"
   ]
  },
  {
   "cell_type": "code",
   "execution_count": null,
   "metadata": {},
   "outputs": [],
   "source": [
    "cid"
   ]
  },
  {
   "cell_type": "code",
   "execution_count": 29,
   "metadata": {},
   "outputs": [
    {
     "data": {
      "text/plain": [
       "<Charge id='chrg_test_5tu6ttzrg9cv9teygys' at 0x1061ff2e0>"
      ]
     },
     "execution_count": 29,
     "metadata": {},
     "output_type": "execute_result"
    }
   ],
   "source": [
    "charge.reload()\n",
    "# chrg_test_5tl5s4hdeaivvnd98ho"
   ]
  },
  {
   "cell_type": "code",
   "execution_count": 28,
   "metadata": {},
   "outputs": [
    {
     "data": {
      "text/plain": [
       "'https://pay.omise.co/offsites/ofsp_test_5tu6ttztd9e7s2kgsqr/pay'"
      ]
     },
     "execution_count": 28,
     "metadata": {},
     "output_type": "execute_result"
    }
   ],
   "source": [
    "charge.authorize_uri"
   ]
  },
  {
   "cell_type": "code",
   "execution_count": 24,
   "metadata": {},
   "outputs": [
    {
     "data": {
      "text/plain": [
       "'pending'"
      ]
     },
     "execution_count": 24,
     "metadata": {},
     "output_type": "execute_result"
    }
   ],
   "source": [
    "charge = omise.Charge.retrieve(charge.id)\n",
    "charge.status"
   ]
  },
  {
   "cell_type": "code",
   "execution_count": 31,
   "metadata": {},
   "outputs": [
    {
     "ename": "BaseError",
     "evalue": "This charge is not reversible",
     "output_type": "error",
     "traceback": [
      "\u001b[0;31m---------------------------------------------------------------------------\u001b[0m",
      "\u001b[0;31mBaseError\u001b[0m                                 Traceback (most recent call last)",
      "\u001b[1;32m/Users/god/Desktop/MyFolder/Programming/Y2S1/ISP/WePay-demo/nothing/omise_auth_example.ipynb Cell 33\u001b[0m in \u001b[0;36m<cell line: 1>\u001b[0;34m()\u001b[0m\n\u001b[0;32m----> <a href='vscode-notebook-cell:/Users/god/Desktop/MyFolder/Programming/Y2S1/ISP/WePay-demo/nothing/omise_auth_example.ipynb#X44sZmlsZQ%3D%3D?line=0'>1</a>\u001b[0m charge\u001b[39m.\u001b[39;49mreverse()\n",
      "File \u001b[0;32m/Library/Frameworks/Python.framework/Versions/3.10/lib/python3.10/site-packages/omise/__init__.py:796\u001b[0m, in \u001b[0;36mCharge.reverse\u001b[0;34m(self)\u001b[0m\n\u001b[1;32m    791\u001b[0m \u001b[39m\"\"\"Reverse an uncaptured charge.\u001b[39;00m\n\u001b[1;32m    792\u001b[0m \n\u001b[1;32m    793\u001b[0m \u001b[39m:rtype: Charge\u001b[39;00m\n\u001b[1;32m    794\u001b[0m \u001b[39m\"\"\"\u001b[39;00m\n\u001b[1;32m    795\u001b[0m path \u001b[39m=\u001b[39m \u001b[39mself\u001b[39m\u001b[39m.\u001b[39m_instance_path(\u001b[39mself\u001b[39m\u001b[39m.\u001b[39m_attributes[\u001b[39m'\u001b[39m\u001b[39mid\u001b[39m\u001b[39m'\u001b[39m]) \u001b[39m+\u001b[39m (\u001b[39m'\u001b[39m\u001b[39mreverse\u001b[39m\u001b[39m'\u001b[39m,)\n\u001b[0;32m--> 796\u001b[0m \u001b[39mreturn\u001b[39;00m \u001b[39mself\u001b[39m\u001b[39m.\u001b[39m_reload_data(\u001b[39mself\u001b[39;49m\u001b[39m.\u001b[39;49m_request(\u001b[39m'\u001b[39;49m\u001b[39mpost\u001b[39;49m\u001b[39m'\u001b[39;49m, path))\n",
      "File \u001b[0;32m/Library/Frameworks/Python.framework/Versions/3.10/lib/python3.10/site-packages/omise/__init__.py:209\u001b[0m, in \u001b[0;36m_MainResource._request\u001b[0;34m(cls, *args, **kwargs)\u001b[0m\n\u001b[1;32m    207\u001b[0m \u001b[39m@classmethod\u001b[39m\n\u001b[1;32m    208\u001b[0m \u001b[39mdef\u001b[39;00m \u001b[39m_request\u001b[39m(\u001b[39mcls\u001b[39m, \u001b[39m*\u001b[39margs, \u001b[39m*\u001b[39m\u001b[39m*\u001b[39mkwargs):\n\u001b[0;32m--> 209\u001b[0m     \u001b[39mreturn\u001b[39;00m Request(api_secret, api_main, api_version)\u001b[39m.\u001b[39;49msend(\u001b[39m*\u001b[39;49margs, \u001b[39m*\u001b[39;49m\u001b[39m*\u001b[39;49mkwargs)\n",
      "File \u001b[0;32m/Library/Frameworks/Python.framework/Versions/3.10/lib/python3.10/site-packages/omise/request.py:102\u001b[0m, in \u001b[0;36mRequest.send\u001b[0;34m(self, method, path, payload, headers)\u001b[0m\n\u001b[1;32m     99\u001b[0m logger\u001b[39m.\u001b[39minfo(\u001b[39m'\u001b[39m\u001b[39mReceived HTTP response: \u001b[39m\u001b[39m%s\u001b[39;00m\u001b[39m'\u001b[39m, response)\n\u001b[1;32m    101\u001b[0m \u001b[39mif\u001b[39;00m response\u001b[39m.\u001b[39mget(\u001b[39m'\u001b[39m\u001b[39mobject\u001b[39m\u001b[39m'\u001b[39m) \u001b[39m==\u001b[39m \u001b[39m'\u001b[39m\u001b[39merror\u001b[39m\u001b[39m'\u001b[39m:\n\u001b[0;32m--> 102\u001b[0m     errors\u001b[39m.\u001b[39;49m_raise_from_data(response)\n\u001b[1;32m    103\u001b[0m \u001b[39mreturn\u001b[39;00m response\n",
      "File \u001b[0;32m/Library/Frameworks/Python.framework/Versions/3.10/lib/python3.10/site-packages/omise/errors.py:49\u001b[0m, in \u001b[0;36m_raise_from_data\u001b[0;34m(data)\u001b[0m\n\u001b[1;32m     47\u001b[0m     \u001b[39mif\u001b[39;00m \u001b[39mnot\u001b[39;00m error:\n\u001b[1;32m     48\u001b[0m         error \u001b[39m=\u001b[39m BaseError\n\u001b[0;32m---> 49\u001b[0m     \u001b[39mraise\u001b[39;00m error(data[\u001b[39m'\u001b[39m\u001b[39mmessage\u001b[39m\u001b[39m'\u001b[39m])\n\u001b[1;32m     50\u001b[0m \u001b[39mraise\u001b[39;00m BaseError(\u001b[39m'\u001b[39m\u001b[39munknown error\u001b[39m\u001b[39m'\u001b[39m)\n",
      "\u001b[0;31mBaseError\u001b[0m: This charge is not reversible"
     ]
    }
   ],
   "source": [
    "charge.reverse()"
   ]
  },
  {
   "cell_type": "code",
   "execution_count": 9,
   "metadata": {},
   "outputs": [
    {
     "name": "stdout",
     "output_type": "stream",
     "text": [
      "Collecting qrcode\n",
      "  Downloading qrcode-7.3.1.tar.gz (43 kB)\n",
      "\u001b[2K     \u001b[90m━━━━━━━━━━━━━━━━━━━━━━━━━━━━━━━━━━━━━━━\u001b[0m \u001b[32m43.5/43.5 kB\u001b[0m \u001b[31m796.1 kB/s\u001b[0m eta \u001b[36m0:00:00\u001b[0ma \u001b[36m0:00:01\u001b[0m\n",
      "\u001b[?25h  Preparing metadata (setup.py) ... \u001b[?25ldone\n",
      "\u001b[?25hBuilding wheels for collected packages: qrcode\n",
      "  Building wheel for qrcode (setup.py) ... \u001b[?25ldone\n",
      "\u001b[?25h  Created wheel for qrcode: filename=qrcode-7.3.1-py3-none-any.whl size=40401 sha256=9b42b78031d91ea6fc37c63993e39fec365c9f13d8d0ec2aa2f35acca46c0871\n",
      "  Stored in directory: /Users/god/Library/Caches/pip/wheels/22/55/8f/67bcedfbd469c9a86c74b0f6bf73c814a59cea47fdc3289c02\n",
      "Successfully built qrcode\n",
      "Installing collected packages: qrcode\n",
      "Successfully installed qrcode-7.3.1\n",
      "\n",
      "\u001b[1m[\u001b[0m\u001b[34;49mnotice\u001b[0m\u001b[1;39;49m]\u001b[0m\u001b[39;49m A new release of pip available: \u001b[0m\u001b[31;49m22.3\u001b[0m\u001b[39;49m -> \u001b[0m\u001b[32;49m22.3.1\u001b[0m\n",
      "\u001b[1m[\u001b[0m\u001b[34;49mnotice\u001b[0m\u001b[1;39;49m]\u001b[0m\u001b[39;49m To update, run: \u001b[0m\u001b[32;49mpip3.10 install --upgrade pip\u001b[0m\n",
      "Note: you may need to restart the kernel to use updated packages.\n"
     ]
    }
   ],
   "source": [
    "pip install qrcode"
   ]
  },
  {
   "cell_type": "code",
   "execution_count": 35,
   "metadata": {},
   "outputs": [
    {
     "data": {
      "text/plain": [
       "'https://api.omise.co/charges/chrg_test_5tx40e0qgjyr7bahb5v/documents/docu_test_5tx40e30kkbpcergj07/downloads/96AE0418396916F1'"
      ]
     },
     "execution_count": 35,
     "metadata": {},
     "output_type": "execute_result"
    }
   ],
   "source": [
    "charge.source.scannable_code.image.download_uri"
   ]
  },
  {
   "cell_type": "code",
   "execution_count": 12,
   "metadata": {},
   "outputs": [],
   "source": [
    "import qrcode"
   ]
  },
  {
   "cell_type": "code",
   "execution_count": 15,
   "metadata": {},
   "outputs": [],
   "source": [
    "qr = qrcode.QRCode(\n",
    "    version=1,\n",
    "    error_correction=qrcode.constants.ERROR_CORRECT_L,\n",
    "    box_size=10,\n",
    "    border=4,\n",
    ")\n",
    "qr.add_data(charge.source.scannable_code.image.download_uri)\n",
    "qr.make(fit=True)\n",
    "img = qr.make_image(fill_color=\"black\", back_color=\"white\")\n",
    "img.save(f\"1.png\")\n"
   ]
  },
  {
   "cell_type": "code",
   "execution_count": 10,
   "metadata": {},
   "outputs": [
    {
     "ename": "FileNotFoundError",
     "evalue": "[Errno 2] No such file or directory: 'https://api.omise.co/charges/chrg_test_5tx40e0qgjyr7bahb5v/documents/docu_test_5tx40e30kkbpcergj07/downloads/96AE0418396916F1'",
     "output_type": "error",
     "traceback": [
      "\u001b[0;31m---------------------------------------------------------------------------\u001b[0m",
      "\u001b[0;31mFileNotFoundError\u001b[0m                         Traceback (most recent call last)",
      "\u001b[1;32m/Users/god/Desktop/MyFolder/Programming/Y2S1/ISP/WePay-demo/nothing/omise_auth_example.ipynb Cell 31\u001b[0m in \u001b[0;36m<cell line: 1>\u001b[0;34m()\u001b[0m\n\u001b[0;32m----> <a href='vscode-notebook-cell:/Users/god/Desktop/MyFolder/Programming/Y2S1/ISP/WePay-demo/nothing/omise_auth_example.ipynb#X51sZmlsZQ%3D%3D?line=0'>1</a>\u001b[0m \u001b[39mopen\u001b[39;49m(\u001b[39m'\u001b[39;49m\u001b[39mhttps://api.omise.co/charges/chrg_test_5tx40e0qgjyr7bahb5v/documents/docu_test_5tx40e30kkbpcergj07/downloads/96AE0418396916F1\u001b[39;49m\u001b[39m'\u001b[39;49m)\n",
      "\u001b[0;31mFileNotFoundError\u001b[0m: [Errno 2] No such file or directory: 'https://api.omise.co/charges/chrg_test_5tx40e0qgjyr7bahb5v/documents/docu_test_5tx40e30kkbpcergj07/downloads/96AE0418396916F1'"
     ]
    }
   ],
   "source": []
  },
  {
   "cell_type": "code",
   "execution_count": 29,
   "metadata": {},
   "outputs": [
    {
     "ename": "AttributeError",
     "evalue": "email",
     "output_type": "error",
     "traceback": [
      "\u001b[0;31m---------------------------------------------------------------------------\u001b[0m",
      "\u001b[0;31mKeyError\u001b[0m                                  Traceback (most recent call last)",
      "File \u001b[0;32m/Library/Frameworks/Python.framework/Versions/3.10/lib/python3.10/site-packages/omise/__init__.py:145\u001b[0m, in \u001b[0;36mBase.__getattr__\u001b[0;34m(self, key)\u001b[0m\n\u001b[1;32m    144\u001b[0m \u001b[39mtry\u001b[39;00m:\n\u001b[0;32m--> 145\u001b[0m     value \u001b[39m=\u001b[39m \u001b[39mself\u001b[39;49m\u001b[39m.\u001b[39;49m_attributes[key]\n\u001b[1;32m    146\u001b[0m     \u001b[39mif\u001b[39;00m \u001b[39misinstance\u001b[39m(value, \u001b[39mdict\u001b[39m):\n",
      "\u001b[0;31mKeyError\u001b[0m: 'email'",
      "\nDuring handling of the above exception, another exception occurred:\n",
      "\u001b[0;31mAttributeError\u001b[0m                            Traceback (most recent call last)",
      "\u001b[1;32m/Users/god/Desktop/MyFolder/Programming/Y2S1/ISP/WePay-demo/nothing/omise_auth_example.ipynb Cell 31\u001b[0m in \u001b[0;36m<cell line: 1>\u001b[0;34m()\u001b[0m\n\u001b[0;32m----> <a href='vscode-notebook-cell:/Users/god/Desktop/MyFolder/Programming/Y2S1/ISP/WePay-demo/nothing/omise_auth_example.ipynb#X51sZmlsZQ%3D%3D?line=0'>1</a>\u001b[0m charge\u001b[39m.\u001b[39;49memail\n",
      "File \u001b[0;32m/Library/Frameworks/Python.framework/Versions/3.10/lib/python3.10/site-packages/omise/__init__.py:150\u001b[0m, in \u001b[0;36mBase.__getattr__\u001b[0;34m(self, key)\u001b[0m\n\u001b[1;32m    148\u001b[0m     \u001b[39mreturn\u001b[39;00m value\n\u001b[1;32m    149\u001b[0m \u001b[39mexcept\u001b[39;00m \u001b[39mKeyError\u001b[39;00m \u001b[39mas\u001b[39;00m e:\n\u001b[0;32m--> 150\u001b[0m     \u001b[39mraise\u001b[39;00m \u001b[39mAttributeError\u001b[39;00m(\u001b[39m*\u001b[39me\u001b[39m.\u001b[39margs)\n",
      "\u001b[0;31mAttributeError\u001b[0m: email"
     ]
    }
   ],
   "source": [
    "charge.email"
   ]
  },
  {
   "cell_type": "code",
   "execution_count": 30,
   "metadata": {},
   "outputs": [],
   "source": [
    "source.barcode"
   ]
  },
  {
   "cell_type": "code",
   "execution_count": 45,
   "metadata": {},
   "outputs": [
    {
     "data": {
      "text/plain": [
       "'qr'"
      ]
     },
     "execution_count": 45,
     "metadata": {},
     "output_type": "execute_result"
    }
   ],
   "source": [
    "charge.source.scannable_code.image.kind"
   ]
  },
  {
   "cell_type": "code",
   "execution_count": 50,
   "metadata": {},
   "outputs": [
    {
     "data": {
      "text/plain": [
       "omise.Document"
      ]
     },
     "execution_count": 50,
     "metadata": {},
     "output_type": "execute_result"
    }
   ],
   "source": []
  },
  {
   "cell_type": "code",
   "execution_count": 12,
   "metadata": {},
   "outputs": [
    {
     "data": {
      "text/plain": [
       "('barcode.svg', <http.client.HTTPMessage at 0x106cb4250>)"
      ]
     },
     "execution_count": 12,
     "metadata": {},
     "output_type": "execute_result"
    }
   ],
   "source": [
    "from urllib.request import urlretrieve\n",
    "\n",
    "url = 'https://api.omise.co/charges/chrg_test_5tx40e0qgjyr7bahb5v/documents/docu_test_5tx40e30kkbpcergj07/downloads/96AE0418396916F1'\n",
    "\n",
    "urlretrieve(url, 'barcode.svg')\n"
   ]
  },
  {
   "cell_type": "code",
   "execution_count": null,
   "metadata": {},
   "outputs": [],
   "source": []
  }
 ],
 "metadata": {
  "kernelspec": {
   "display_name": "Python 3.10.5 64-bit",
   "language": "python",
   "name": "python3"
  },
  "language_info": {
   "codemirror_mode": {
    "name": "ipython",
    "version": 3
   },
   "file_extension": ".py",
   "mimetype": "text/x-python",
   "name": "python",
   "nbconvert_exporter": "python",
   "pygments_lexer": "ipython3",
   "version": "3.10.5"
  },
  "orig_nbformat": 4,
  "vscode": {
   "interpreter": {
    "hash": "7e1998ff7f8aa20ada591c520b972326324e5ea05489af9e422744c7c09f6dad"
   }
  }
 },
 "nbformat": 4,
 "nbformat_minor": 2
}
