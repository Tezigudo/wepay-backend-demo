{
 "cells": [
  {
   "cell_type": "code",
   "execution_count": 1,
   "metadata": {},
   "outputs": [],
   "source": [
    "import omise\n",
    "from decouple import config, Csv\n",
    "omise.api_public = config('OMISE_PUBLIC_KEY')\n",
    "omise.api_secret = config('OMISE_SECRET_KEY')"
   ]
  },
  {
   "cell_type": "code",
   "execution_count": 12,
   "metadata": {},
   "outputs": [],
   "source": [
    "def create_token():\n",
    "    return omise.Token.create(name='James Brucker', number='4242424242424242', expiration_month=10, expiration_year=2023, security_code=123, city='Bangkok', postal_code=10320, country='TH')"
   ]
  },
  {
   "cell_type": "code",
   "execution_count": 13,
   "metadata": {},
   "outputs": [],
   "source": [
    "token = create_token()"
   ]
  },
  {
   "cell_type": "code",
   "execution_count": 14,
   "metadata": {},
   "outputs": [],
   "source": [
    "charge = omise.Charge.create(amount=1000_00, currency='thb', card=token.id, return_uri='http://localhost:8000/')"
   ]
  },
  {
   "cell_type": "code",
   "execution_count": 15,
   "metadata": {},
   "outputs": [
    {
     "data": {
      "text/plain": [
       "'successful'"
      ]
     },
     "execution_count": 15,
     "metadata": {},
     "output_type": "execute_result"
    }
   ],
   "source": [
    "charge.status"
   ]
  },
  {
   "cell_type": "code",
   "execution_count": 19,
   "metadata": {},
   "outputs": [
    {
     "data": {
      "text/plain": [
       "<Token id='tokn_test_5tj4g7otexm23mjufff' at 0x10481cfa0>"
      ]
     },
     "execution_count": 19,
     "metadata": {},
     "output_type": "execute_result"
    }
   ],
   "source": [
    "create_token()"
   ]
  },
  {
   "cell_type": "code",
   "execution_count": 6,
   "metadata": {},
   "outputs": [
    {
     "data": {
      "text/plain": [
       "<Transfer id='trsf_test_5tj4ffsomuf9vwlirsv' at 0x106585e40>"
      ]
     },
     "execution_count": 6,
     "metadata": {},
     "output_type": "execute_result"
    }
   ],
   "source": [
    "omise.Transfer.create(amount=100000)"
   ]
  },
  {
   "cell_type": "code",
   "execution_count": 20,
   "metadata": {},
   "outputs": [],
   "source": [
    "\n",
    "transact1 = omise.Transfer.create(amount=1000000, currency='thb', bank_account='0652360378')"
   ]
  },
  {
   "cell_type": "code",
   "execution_count": 15,
   "metadata": {},
   "outputs": [
    {
     "data": {
      "text/plain": [
       "<BankAccount name='DEFAULT BANK ACCOUNT' at 0x11459b580>"
      ]
     },
     "execution_count": 15,
     "metadata": {},
     "output_type": "execute_result"
    }
   ],
   "source": [
    "transact1.bank_account"
   ]
  },
  {
   "cell_type": "code",
   "execution_count": 16,
   "metadata": {},
   "outputs": [],
   "source": []
  },
  {
   "cell_type": "code",
   "execution_count": 32,
   "metadata": {},
   "outputs": [
    {
     "ename": "AttributeError",
     "evalue": "type object 'BankAccount' has no attribute 'retrieve'",
     "output_type": "error",
     "traceback": [
      "\u001b[0;31m---------------------------------------------------------------------------\u001b[0m",
      "\u001b[0;31mAttributeError\u001b[0m                            Traceback (most recent call last)",
      "\u001b[1;32m/Users/god/Desktop/MyFolder/Programming/Y2S1/ISP/WePay-demo/nothing/test.ipynb Cell 11\u001b[0m in \u001b[0;36m<cell line: 1>\u001b[0;34m()\u001b[0m\n\u001b[0;32m----> <a href='vscode-notebook-cell:/Users/god/Desktop/MyFolder/Programming/Y2S1/ISP/WePay-demo/nothing/test.ipynb#X13sZmlsZQ%3D%3D?line=0'>1</a>\u001b[0m bank_acc \u001b[39m=\u001b[39m omise\u001b[39m.\u001b[39;49mBankAccount\u001b[39m.\u001b[39;49mretrieve(\u001b[39m'\u001b[39m\u001b[39m0652360378\u001b[39m\u001b[39m'\u001b[39m)\n",
      "\u001b[0;31mAttributeError\u001b[0m: type object 'BankAccount' has no attribute 'retrieve'"
     ]
    }
   ],
   "source": [
    "bank_acc = omise.BankAccount()"
   ]
  },
  {
   "cell_type": "code",
   "execution_count": 33,
   "metadata": {},
   "outputs": [],
   "source": [
    "rec = omise.Recipient.retrieve('recp_test_5tk9rvqbtzjfnuqmtup')"
   ]
  },
  {
   "cell_type": "code",
   "execution_count": 35,
   "metadata": {},
   "outputs": [
    {
     "data": {
      "text/plain": [
       "'recp_test_5tk9rvqbtzjfnuqmtup'"
      ]
     },
     "execution_count": 35,
     "metadata": {},
     "output_type": "execute_result"
    }
   ],
   "source": [
    "rec"
   ]
  },
  {
   "cell_type": "code",
   "execution_count": 36,
   "metadata": {},
   "outputs": [],
   "source": [
    "t = omise.Transfer.create(amount=99999_00, currency='thb', recipient=rec.id)"
   ]
  },
  {
   "cell_type": "code",
   "execution_count": 5,
   "metadata": {},
   "outputs": [
    {
     "ename": "NameError",
     "evalue": "name 't' is not defined",
     "output_type": "error",
     "traceback": [
      "\u001b[0;31m---------------------------------------------------------------------------\u001b[0m",
      "\u001b[0;31mNameError\u001b[0m                                 Traceback (most recent call last)",
      "\u001b[1;32m/Users/god/Desktop/MyFolder/Programming/Y2S1/ISP/WePay-demo/nothing/test.ipynb Cell 15\u001b[0m in \u001b[0;36m<cell line: 1>\u001b[0;34m()\u001b[0m\n\u001b[0;32m----> <a href='vscode-notebook-cell:/Users/god/Desktop/MyFolder/Programming/Y2S1/ISP/WePay-demo/nothing/test.ipynb#X20sZmlsZQ%3D%3D?line=0'>1</a>\u001b[0m t\n",
      "\u001b[0;31mNameError\u001b[0m: name 't' is not defined"
     ]
    }
   ],
   "source": [
    "t"
   ]
  },
  {
   "cell_type": "code",
   "execution_count": 7,
   "metadata": {},
   "outputs": [
    {
     "data": {
      "text/plain": [
       "<Source id='src_test_5tk9k57ebdu44dg63nt' at 0x11cee7d60>"
      ]
     },
     "execution_count": 7,
     "metadata": {},
     "output_type": "execute_result"
    }
   ],
   "source": [
    "na"
   ]
  },
  {
   "cell_type": "code",
   "execution_count": 22,
   "metadata": {},
   "outputs": [],
   "source": [
    "nana = omise.Source.create(amount=5000_00, currency='thb', type='promptpay')"
   ]
  },
  {
   "cell_type": "code",
   "execution_count": null,
   "metadata": {},
   "outputs": [
    {
     "data": {
      "text/plain": [
       "<Charge id='chrg_test_5thlths4ly301bj7hzm' at 0x11078c1c0>"
      ]
     },
     "execution_count": 72,
     "metadata": {},
     "output_type": "execute_result"
    }
   ],
   "source": [
    "omise.Customer.create('')"
   ]
  },
  {
   "cell_type": "code",
   "execution_count": 23,
   "metadata": {},
   "outputs": [
    {
     "data": {
      "text/plain": [
       "<Transfer id='trsf_test_5tj4jpit7n6ebdjvz35' at 0x107375e10>"
      ]
     },
     "execution_count": 23,
     "metadata": {},
     "output_type": "execute_result"
    }
   ],
   "source": [
    "omise.Transfer.create(source=nana.id, amount=40_00, currency='thb')"
   ]
  },
  {
   "cell_type": "code",
   "execution_count": null,
   "metadata": {},
   "outputs": [
    {
     "data": {
      "text/plain": [
       "<Charge id='chrg_test_5thni3jktjpehmw39t0' at 0x110aa36a0>"
      ]
     },
     "execution_count": 84,
     "metadata": {},
     "output_type": "execute_result"
    }
   ],
   "source": [
    "omise.Charge.create(amount=100000, currency='thb', customer=customer.id, return_uri='http://localhost:8000/')"
   ]
  },
  {
   "cell_type": "code",
   "execution_count": null,
   "metadata": {},
   "outputs": [],
   "source": []
  },
  {
   "cell_type": "code",
   "execution_count": 2,
   "metadata": {},
   "outputs": [],
   "source": [
    "charge = omise.Charge.retrieve('chrg_test_5thni3jktjpehmw39t0')"
   ]
  },
  {
   "cell_type": "code",
   "execution_count": 4,
   "metadata": {},
   "outputs": [
    {
     "data": {
      "text/plain": [
       "'successful'"
      ]
     },
     "execution_count": 4,
     "metadata": {},
     "output_type": "execute_result"
    }
   ],
   "source": [
    "charge.status"
   ]
  },
  {
   "cell_type": "code",
   "execution_count": null,
   "metadata": {},
   "outputs": [
    {
     "data": {
      "text/plain": [
       "'successful'"
      ]
     },
     "execution_count": 87,
     "metadata": {},
     "output_type": "execute_result"
    }
   ],
   "source": [
    "charge.status"
   ]
  },
  {
   "cell_type": "code",
   "execution_count": null,
   "metadata": {},
   "outputs": [
    {
     "data": {
      "text/plain": [
       "{'object': 'customer',\n",
       " 'id': 'cust_test_5thni2iw2nz0eezu9s1',\n",
       " 'livemode': False,\n",
       " 'location': '/customers/cust_test_5thni2iw2nz0eezu9s1',\n",
       " 'deleted': False,\n",
       " 'metadata': {},\n",
       " 'cards': {'object': 'list',\n",
       "  'data': [{'object': 'card',\n",
       "    'id': 'card_test_5thni2gfnqsdb57lzrx',\n",
       "    'livemode': False,\n",
       "    'location': '/customers/cust_test_5thni2iw2nz0eezu9s1/cards/card_test_5thni2gfnqsdb57lzrx',\n",
       "    'deleted': False,\n",
       "    'street1': None,\n",
       "    'street2': None,\n",
       "    'city': 'Bangkok',\n",
       "    'state': None,\n",
       "    'phone_number': None,\n",
       "    'postal_code': '10320',\n",
       "    'country': 'th',\n",
       "    'financing': 'credit',\n",
       "    'bank': 'JPMORGAN CHASE BANK N.A.',\n",
       "    'brand': 'Visa',\n",
       "    'fingerprint': 'PACxiaRgTFli5uDDRTLOrq07jRlUAjiWgeJoPg9Td/k=',\n",
       "    'first_digits': None,\n",
       "    'last_digits': '4242',\n",
       "    'name': 'James Brucker',\n",
       "    'expiration_month': 10,\n",
       "    'expiration_year': 2023,\n",
       "    'security_code_check': True,\n",
       "    'tokenization_method': None,\n",
       "    'created_at': '2022-10-16T14:22:26Z'}],\n",
       "  'limit': 20,\n",
       "  'offset': 0,\n",
       "  'total': 1,\n",
       "  'location': '/customers/cust_test_5thni2iw2nz0eezu9s1/cards',\n",
       "  'order': 'chronological',\n",
       "  'from': '1970-01-01T00:00:00Z',\n",
       "  'to': '2022-10-16T14:24:42Z'},\n",
       " 'default_card': 'card_test_5thni2gfnqsdb57lzrx',\n",
       " 'description': 'James Brucker',\n",
       " 'email': 'j.brucker@ku.th',\n",
       " 'created_at': '2022-10-16T14:22:26Z'}"
      ]
     },
     "execution_count": 94,
     "metadata": {},
     "output_type": "execute_result"
    }
   ],
   "source": [
    "customer2 = omise.Customer.create(description=\"banana nababa\", currency='thb', email=''"
   ]
  },
  {
   "cell_type": "code",
   "execution_count": null,
   "metadata": {},
   "outputs": [
    {
     "ename": "TypeError",
     "evalue": "Source.retrieve() missing 1 required positional argument: 'source_id'",
     "output_type": "error",
     "traceback": [
      "\u001b[0;31m---------------------------------------------------------------------------\u001b[0m",
      "\u001b[0;31mTypeError\u001b[0m                                 Traceback (most recent call last)",
      "\u001b[1;32m/Users/god/Desktop/MyFolder/Programming/Y2S1/ISP/WePay-demo/nothing/test.ipynb Cell 28\u001b[0m in \u001b[0;36m<cell line: 1>\u001b[0;34m()\u001b[0m\n\u001b[0;32m----> <a href='vscode-notebook-cell:/Users/god/Desktop/MyFolder/Programming/Y2S1/ISP/WePay-demo/nothing/test.ipynb#X43sZmlsZQ%3D%3D?line=0'>1</a>\u001b[0m nana\u001b[39m.\u001b[39;49mretrieve()\n",
      "\u001b[0;31mTypeError\u001b[0m: Source.retrieve() missing 1 required positional argument: 'source_id'"
     ]
    }
   ],
   "source": [
    "nana.retrieve()"
   ]
  }
 ],
 "metadata": {
  "kernelspec": {
   "display_name": "Python 3",
   "language": "python",
   "name": "python3"
  },
  "language_info": {
   "codemirror_mode": {
    "name": "ipython",
    "version": 3
   },
   "file_extension": ".py",
   "mimetype": "text/x-python",
   "name": "python",
   "nbconvert_exporter": "python",
   "pygments_lexer": "ipython3",
   "version": "3.10.5 (v3.10.5:f377153967, Jun  6 2022, 12:36:10) [Clang 13.0.0 (clang-1300.0.29.30)]"
  },
  "orig_nbformat": 4,
  "vscode": {
   "interpreter": {
    "hash": "7e1998ff7f8aa20ada591c520b972326324e5ea05489af9e422744c7c09f6dad"
   }
  }
 },
 "nbformat": 4,
 "nbformat_minor": 2
}
